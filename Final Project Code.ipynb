{
  "cells": [
    {
      "metadata": {
        "_execution_state": "idle",
        "_uuid": "89a75d79258e7d680f92b61ce33bf4683a6e22d4",
        "trusted": true,
        "_cell_guid": "3f424bb5-d190-423a-8029-f090ab14943d"
      },
      "cell_type": "code",
      "source": "# This R environment comes with all of CRAN preinstalled, as well as many other helpful packages\n# The environment is defined by the kaggle/rstats docker image: https://github.com/kaggle/docker-rstats\n# For example, here's several helpful packages to load in \n\nlibrary(ggplot2) # Data visualization\nlibrary(readr) # CSV file I/O, e.g. the read_csv function\n\n# Input data files are available in the \"../input/\" directory.\n# For example, running this (by clicking run or pressing Shift+Enter) will list the files in the input directory\n\nsystem(\"ls ../input\")\n\n# Any results you write to the current directory are saved as output.",
      "execution_count": 1,
      "outputs": []
    },
    {
      "metadata": {
        "_uuid": "33c4d4ad24b09eb06bff76867b98f43468440516",
        "trusted": true,
        "_cell_guid": "b293560f-0fec-45cd-a8e0-7eef959d61a0"
      },
      "cell_type": "code",
      "source": "dataset <-as.data.frame(read.csv('../input/Data v2.csv'))\ncolnames(dataset)[colnames(dataset)==\"default.payment.next.month\"] <- \"Defaulted\"",
      "execution_count": null,
      "outputs": []
    },
    {
      "metadata": {
        "scrolled": false,
        "_uuid": "65ca72c0571f2834d3bef0d8f986e6cf8dd0ad9b",
        "trusted": true,
        "_cell_guid": "6a1cbd08-26d7-4cb1-9665-c28f874cc07e"
      },
      "cell_type": "code",
      "source": "all_cols = names(dataset)\n\ncategorical_columns <- c('Sex','Education','Marriage')\n\nfor (c in categorical_columns){\n    temp_table <- table(dataset[,'Defaulted'], dataset[,c])\n    barplot(temp_table, col=c(\"red\", \"blue\"), legend=rownames(temp_table),main = 'Defaul Rates',xlab = c,ylab = '# Records')\n    }\n\n",
      "execution_count": null,
      "outputs": []
    },
    {
      "metadata": {
        "_uuid": "6a3e6fcbdf17cf48744a620245e033f2cc58cada",
        "trusted": true,
        "_cell_guid": "a78e5eee-429a-4904-9f96-0bcae581ddce"
      },
      "cell_type": "code",
      "source": "aggregate(dataset[, 'Defaulted'], list(dataset$Sex), mean);\naggregate(dataset[, 'Defaulted'], list(dataset$Education), mean);\naggregate(dataset[, 'Defaulted'], list(dataset$Marriage), mean)\naggregate(dataset[, 'Defaulted'], list(dataset$AGE), mean)\nmean(dataset$Defaulted)",
      "execution_count": null,
      "outputs": []
    },
    {
      "metadata": {
        "_uuid": "77b88726ef041166b577ecb5f5799be1be46016e",
        "trusted": false,
        "_cell_guid": "055ae062-f811-445c-bb1d-333d02377130"
      },
      "cell_type": "code",
      "source": "library(corrplot)\nlibrary(ggcorrplot)\n\nnumeric_columns<-c('April_Pay', 'May_Pay', 'June_Pay', 'July_Pay', 'August_Pay' ,'September_Pay', 'April_Bill_Amt', 'May_Bill_Amt' ,'June_Bill_Amt',\n                   'July_Bill_Amt', 'August_Bill_Amt', 'September_Bill_Amt' ,'April_Pay_Amt', 'May_Pay_Amt', 'June_Pay_Amt', 'July_Pay_Amt', 'August_Pay_Amt', 'September_Pay_Amt','Defaulted')\n\ncor_ind = round(cor(dataset[numeric_columns]),1)\np.mat <- cor_pmat(dataset[numeric_columns])\n\n\nggcorrplot(cor_ind, p.mat = p.mat, hc.order = FALSE,\n           , insig = \"blank\", lab = TRUE,lab_size =2) +\ntheme(axis.text.x=element_text(size=7, angle=45, vjust=1, hjust=1, \n                               margin=margin(-3,0,0,0)),\n      axis.text.y=element_text(size=7, margin=margin(0,-3,0,0)),\n      panel.grid.major=element_blank(),\n      plot.title = element_text( face=\"bold\", size=10, hjust=0)) +\n  ggtitle(\"Correlation between various numeric columns\")",
      "execution_count": null,
      "outputs": []
    },
    {
      "metadata": {
        "_uuid": "2fb9c50fbb1008b433c51291931d8740e39ce762",
        "trusted": false,
        "_cell_guid": "34e1bd3c-b46e-4256-ac1a-9fa38e023cec"
      },
      "cell_type": "code",
      "source": "for (c in c(categorical_columns) ){\ndataset[,c]<- factor(dataset[,c])\n    }",
      "execution_count": null,
      "outputs": []
    },
    {
      "metadata": {
        "_uuid": "6c0c7ff63e4452dda2eee951aa5f3a6357bacd4d",
        "trusted": false,
        "_cell_guid": "1d02e4be-f7d9-4dc7-a748-94e84d937076"
      },
      "cell_type": "code",
      "source": "## 75% of the sample size\nsmp_size <- floor(0.75 * nrow(dataset))\n\n## set the seed to make your partition reproductible\nset.seed(123)\ntrain_ind <- sample(seq_len(nrow(dataset)), size = smp_size)\n\ntrain <- dataset[train_ind, ]\ntest <- dataset[-train_ind, ]\n\ntrain_x <-data.frame(train[,-c(1,25)])\ntest_x <-data.frame(test[,-c(1,25)])\ntrain_y<-train[,25]\ntest_y<-test[,25]",
      "execution_count": null,
      "outputs": []
    },
    {
      "metadata": {
        "_uuid": "e483ec87417dc1eb8fa8a6ff8c91a3944ac83407",
        "trusted": false,
        "_cell_guid": "324d6cc1-6a91-4f6f-bef2-ba9ebcc4a128"
      },
      "cell_type": "code",
      "source": "require(xgboost)\nset.seed(100)\n\nx_train <- model.matrix(train_y~., train_x)[,-1]\nx_test <- model.matrix(test_y~., test_x)[,-1]\nxgb.mod = xgboost(data = as.matrix(x_train), nfold = 5, label = as.matrix(train_y), \n    nrounds = 2000, verbose = FALSE, objective = \"binary:logistic\", eval_metric = \"error\", \n    nthread = 8, eta = 0.001, gamma = 0.0468, max_depth = 10, min_child_weight = 1.7817, \n    subsample = 0.5213, colsample_bytree = 0.4603)\nxgb.importance(colnames(as.matrix(x_train)), model = xgb.mod)\n\n## Predictions\nxgb.pred_train <- predict(xgb.mod, newdata = as.matrix(x_train))\nxgb.pred_test <- predict(xgb.mod, newdata = as.matrix(x_test))\n",
      "execution_count": null,
      "outputs": []
    },
    {
      "metadata": {
        "_uuid": "08ab3178e24274a60dc5a24372e9322f46a4d165",
        "trusted": false,
        "_cell_guid": "2086a4b9-c684-4b74-a988-7a8b59b92fe2"
      },
      "cell_type": "code",
      "source": "library(pROC)\nauc(test_y,xgb.pred_test)",
      "execution_count": null,
      "outputs": []
    },
    {
      "metadata": {
        "_uuid": "a00a2450d68320cf65ad2afe1fe5a848c615f3be",
        "trusted": false,
        "_cell_guid": "1433cf7a-3ccb-4e9a-b02f-db6e33ec871c"
      },
      "cell_type": "code",
      "source": "#xgb.pred_test <- as.numeric(xgb.pred_test>0.9)\nlibrary(caret)\n#confusionMatrix(test_y,as.numeric(xgb.pred_test>0.5))\nxgb.pred_test_outcome <- (xgb.pred_test - min(xgb.pred_test))/(max(xgb.pred_test)-min(xgb.pred_test))\nconfusionMatrix(test_y,as.numeric(xgb.pred_test_outcome>0.3))",
      "execution_count": null,
      "outputs": []
    },
    {
      "metadata": {
        "_uuid": "bb4ffcd42e6f0c7372cfffdd4cf0b582826aacfc",
        "trusted": false,
        "_cell_guid": "56bb361a-4511-483e-9540-f9b193eb02a5"
      },
      "cell_type": "code",
      "source": "model <- glm (Defaulted ~ ., data = train[-1], family = binomial)\npredict <- predict(model,test_x)\npredict_outcome <- (predict - min(predict))/(max(predict)-min(predict))\nauc(test_y,predict_outcome)\nconfusionMatrix(test_y,as.numeric(predict_outcome>0.2))",
      "execution_count": null,
      "outputs": []
    }
  ],
  "metadata": {
    "kernelspec": {
      "display_name": "R",
      "language": "R",
      "name": "ir"
    },
    "language_info": {
      "mimetype": "text/x-r-source",
      "name": "R",
      "pygments_lexer": "r",
      "version": "3.4.2",
      "file_extension": ".r",
      "codemirror_mode": "r"
    }
  },
  "nbformat": 4,
  "nbformat_minor": 1
}